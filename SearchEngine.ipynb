{
 "cells": [
  {
   "cell_type": "code",
   "execution_count": null,
   "id": "initial_id",
   "metadata": {
    "collapsed": true
   },
   "outputs": [],
   "source": [
    "import requests\n",
    "from bs4 import BeautifulSoup\n",
    "\n",
    "def fetch_page(url):\n",
    "    response = requests.get(url)\n",
    "    if response.status_code == 200:\n",
    "        soup = BeautifulSoup(response.text, 'html.parser')\n",
    "        return soup\n",
    "    else:\n",
    "        return None\n"
   ]
  },
  {
   "metadata": {
    "ExecuteTime": {
     "end_time": "2025-03-10T21:03:29.122249Z",
     "start_time": "2025-03-10T21:03:29.115056Z"
    }
   },
   "cell_type": "code",
   "source": [
    "def extract_gymnastics_data(soup):\n",
    "    data = []\n",
    "    for item in soup.find_all('div', class_='skill-item'):  # Adjust based on site structure\n",
    "        skill_name = item.find('h2').text.strip()\n",
    "        description = item.find('p').text.strip()\n",
    "        data.append({'skill': skill_name, 'description': description})\n",
    "    return data\n"
   ],
   "id": "451820476456192d",
   "outputs": [],
   "execution_count": 1
  },
  {
   "metadata": {},
   "cell_type": "markdown",
   "source": "## Data Indexing",
   "id": "824097c35ccb174c"
  },
  {
   "metadata": {
    "ExecuteTime": {
     "end_time": "2025-03-10T21:04:12.913933Z",
     "start_time": "2025-03-10T21:04:12.903199Z"
    }
   },
   "cell_type": "code",
   "source": [
    "import re\n",
    "\n",
    "def index_data(data):\n",
    "    index = {}\n",
    "    for entry in data:\n",
    "        words = re.findall(r'\\w+', entry['description'].lower())\n",
    "        for word in words:\n",
    "            if word not in index:\n",
    "                index[word] = []\n",
    "            index[word].append(entry['skill'])\n",
    "    return index\n"
   ],
   "id": "c8b1e68cab95a7be",
   "outputs": [],
   "execution_count": 2
  },
  {
   "metadata": {},
   "cell_type": "markdown",
   "source": "## Text Processing",
   "id": "f3cfcdd801d0c3c4"
  },
  {
   "metadata": {
    "ExecuteTime": {
     "end_time": "2025-03-10T21:11:13.056467Z",
     "start_time": "2025-03-10T21:11:11.835738Z"
    }
   },
   "cell_type": "code",
   "source": [
    "import nltk\n",
    "from nltk.corpus import stopwords\n",
    "from nltk.stem import PorterStemmer\n",
    "\n",
    "nltk.download('stopwords')\n",
    "stop_words = set(stopwords.words('english'))\n",
    "stemmer = PorterStemmer()\n",
    "\n",
    "def process_text(index):\n",
    "    processed_index = {}\n",
    "    for word, skills in index.items():\n",
    "        if word not in stop_words:\n",
    "            stemmed_word = stemmer.stem(word)\n",
    "            if stemmed_word not in processed_index:\n",
    "                processed_index[stemmed_word] = []\n",
    "            processed_index[stemmed_word].extend(skills)\n",
    "    return processed_index\n"
   ],
   "id": "2de00e43e7167c3b",
   "outputs": [
    {
     "name": "stderr",
     "output_type": "stream",
     "text": [
      "[nltk_data] Downloading package stopwords to\n",
      "[nltk_data]     /Users/vedanshsurjan/nltk_data...\n",
      "[nltk_data]   Unzipping corpora/stopwords.zip.\n"
     ]
    }
   ],
   "execution_count": 4
  },
  {
   "metadata": {},
   "cell_type": "markdown",
   "source": "## Search Query",
   "id": "ffb930760eb71bcb"
  },
  {
   "metadata": {
    "ExecuteTime": {
     "end_time": "2025-03-10T21:12:21.794466Z",
     "start_time": "2025-03-10T21:12:21.774975Z"
    }
   },
   "cell_type": "code",
   "source": [
    "def search(query, index):\n",
    "    query_words = re.findall(r'\\w+', query.lower())\n",
    "    results = {}\n",
    "    for word in query_words:\n",
    "        if word in index:\n",
    "            for skill in index[word]:\n",
    "                results[skill] = results.get(skill, 0) + 1\n",
    "    return sorted(results.items(), key=lambda x: x[1], reverse=True)\n"
   ],
   "id": "196dddceb2dbf9e7",
   "outputs": [],
   "execution_count": 5
  },
  {
   "metadata": {},
   "cell_type": "code",
   "outputs": [],
   "execution_count": null,
   "source": "",
   "id": "8d39deb6278b3848"
  },
  {
   "metadata": {},
   "cell_type": "markdown",
   "source": "## Query Expansion",
   "id": "c47a300400073678"
  },
  {
   "metadata": {
    "ExecuteTime": {
     "end_time": "2025-03-10T21:14:05.489485Z",
     "start_time": "2025-03-10T21:14:02.936435Z"
    }
   },
   "cell_type": "code",
   "source": [
    "from nltk.corpus import wordnet\n",
    "\n",
    "# Download WordNet data\n",
    "import nltk\n",
    "nltk.download('wordnet')\n",
    "\n",
    "def expand_query_with_synonyms(query):\n",
    "    expanded_terms = set(query.split())  # Start with original query terms\n",
    "    for word in query.split():\n",
    "        for syn in wordnet.synsets(word):\n",
    "            for lemma in syn.lemmas():\n",
    "                expanded_terms.add(lemma.name().replace('_', ' '))\n",
    "    return list(expanded_terms)\n",
    "\n",
    "query = \"cartwheel\"\n",
    "expanded_query = expand_query_with_synonyms(query)\n",
    "print(\"Expanded Query:\", expanded_query)\n"
   ],
   "id": "58265a661cb2e283",
   "outputs": [
    {
     "name": "stderr",
     "output_type": "stream",
     "text": [
      "[nltk_data] Downloading package wordnet to\n",
      "[nltk_data]     /Users/vedanshsurjan/nltk_data...\n"
     ]
    },
    {
     "name": "stdout",
     "output_type": "stream",
     "text": [
      "Expanded Query: ['silver dollar', 'cartwheel']\n"
     ]
    }
   ],
   "execution_count": 6
  },
  {
   "metadata": {},
   "cell_type": "code",
   "outputs": [],
   "execution_count": null,
   "source": "",
   "id": "273d1c2e1f2b693e"
  },
  {
   "metadata": {},
   "cell_type": "markdown",
   "source": "## Stemming and Lemmatization",
   "id": "6a3c6f76d55447e7"
  },
  {
   "metadata": {
    "ExecuteTime": {
     "end_time": "2025-03-10T21:15:04.591754Z",
     "start_time": "2025-03-10T21:15:04.534626Z"
    }
   },
   "cell_type": "code",
   "source": [
    "from nltk.stem import PorterStemmer\n",
    "\n",
    "def stem_query(query):\n",
    "    stemmer = PorterStemmer()\n",
    "    return [stemmer.stem(word) for word in query.split()]\n",
    "\n",
    "query = \"jumping cartwheels\"\n",
    "expanded_query = stem_query(query)\n",
    "print(\"Stemmed Query:\", expanded_query)\n"
   ],
   "id": "98ceaa7880c36b19",
   "outputs": [
    {
     "name": "stdout",
     "output_type": "stream",
     "text": [
      "Stemmed Query: ['jump', 'cartwheel']\n"
     ]
    }
   ],
   "execution_count": 7
  },
  {
   "metadata": {},
   "cell_type": "code",
   "outputs": [],
   "execution_count": null,
   "source": "",
   "id": "b39cb5fdc713e0a"
  },
  {
   "metadata": {},
   "cell_type": "markdown",
   "source": "## Integration with Search Engine",
   "id": "6597ab91bdf6da39"
  },
  {
   "metadata": {
    "ExecuteTime": {
     "end_time": "2025-03-10T21:24:38.810146Z",
     "start_time": "2025-03-10T21:24:38.425195Z"
    }
   },
   "cell_type": "code",
   "source": [
    "def search_with_expansion(query, index):\n",
    "    expanded_query = expand_query_with_synonyms(query)  # Or use another expansion method\n",
    "    results = {}\n",
    "    for term in expanded_query:\n",
    "        if term in index:\n",
    "            for skill in index[term]:\n",
    "                results[skill] = results.get(skill, 0) + 1  # Increment score for matches\n",
    "    return sorted(results.items(), key=lambda x: x[1], reverse=True)\n",
    "\n",
    "query = \"cartwheel\"\n",
    "results = search_with_expansion(query, indexed_data)\n",
    "print(\"Search Results:\", results)\n"
   ],
   "id": "73aae1db34970486",
   "outputs": [
    {
     "ename": "NameError",
     "evalue": "name 'indexed_data' is not defined",
     "output_type": "error",
     "traceback": [
      "\u001B[31m---------------------------------------------------------------------------\u001B[39m",
      "\u001B[31mNameError\u001B[39m                                 Traceback (most recent call last)",
      "\u001B[36mCell\u001B[39m\u001B[36m \u001B[39m\u001B[32mIn[8]\u001B[39m\u001B[32m, line 11\u001B[39m\n\u001B[32m      8\u001B[39m     \u001B[38;5;28;01mreturn\u001B[39;00m \u001B[38;5;28msorted\u001B[39m(results.items(), key=\u001B[38;5;28;01mlambda\u001B[39;00m x: x[\u001B[32m1\u001B[39m], reverse=\u001B[38;5;28;01mTrue\u001B[39;00m)\n\u001B[32m     10\u001B[39m query = \u001B[33m\"\u001B[39m\u001B[33mcartwheel\u001B[39m\u001B[33m\"\u001B[39m\n\u001B[32m---> \u001B[39m\u001B[32m11\u001B[39m results = search_with_expansion(query, \u001B[43mindexed_data\u001B[49m)\n\u001B[32m     12\u001B[39m \u001B[38;5;28mprint\u001B[39m(\u001B[33m\"\u001B[39m\u001B[33mSearch Results:\u001B[39m\u001B[33m\"\u001B[39m, results)\n",
      "\u001B[31mNameError\u001B[39m: name 'indexed_data' is not defined"
     ]
    }
   ],
   "execution_count": 8
  },
  {
   "metadata": {},
   "cell_type": "code",
   "outputs": [],
   "execution_count": null,
   "source": "",
   "id": "c1ecbc05f6ec8c57"
  }
 ],
 "metadata": {
  "kernelspec": {
   "display_name": "Python 3",
   "language": "python",
   "name": "python3"
  },
  "language_info": {
   "codemirror_mode": {
    "name": "ipython",
    "version": 2
   },
   "file_extension": ".py",
   "mimetype": "text/x-python",
   "name": "python",
   "nbconvert_exporter": "python",
   "pygments_lexer": "ipython2",
   "version": "2.7.6"
  }
 },
 "nbformat": 4,
 "nbformat_minor": 5
}
